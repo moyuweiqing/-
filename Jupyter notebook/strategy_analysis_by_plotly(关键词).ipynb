{
 "cells": [
  {
   "cell_type": "code",
   "execution_count": 1,
   "metadata": {},
   "outputs": [
    {
     "data": {
      "text/html": [
       "<script type=\"text/javascript\">window.PlotlyConfig = {MathJaxConfig: 'local'};</script><script type=\"text/javascript\">if (window.MathJax) {MathJax.Hub.Config({SVG: {font: \"STIX-Web\"}});}</script><script>requirejs.config({paths: { 'plotly': ['https://cdn.plot.ly/plotly-latest.min']},});if(!window._Plotly) {require(['plotly'],function(plotly) {window._Plotly=plotly;});}</script>"
      ],
      "text/vnd.plotly.v1+html": [
       "<script type=\"text/javascript\">window.PlotlyConfig = {MathJaxConfig: 'local'};</script><script type=\"text/javascript\">if (window.MathJax) {MathJax.Hub.Config({SVG: {font: \"STIX-Web\"}});}</script><script>requirejs.config({paths: { 'plotly': ['https://cdn.plot.ly/plotly-latest.min']},});if(!window._Plotly) {require(['plotly'],function(plotly) {window._Plotly=plotly;});}</script>"
      ]
     },
     "metadata": {},
     "output_type": "display_data"
    },
    {
     "name": "stderr",
     "output_type": "stream",
     "text": [
      "Building prefix dict from the default dictionary ...\n",
      "Loading model from cache C:\\Users\\Yoga\\AppData\\Local\\Temp\\jieba.cache\n",
      "Loading model cost 2.208 seconds.\n",
      "Prefix dict has been built succesfully.\n",
      "D:\\conda\\lib\\site-packages\\plotly\\graph_objs\\_deprecations.py:39: DeprecationWarning:\n",
      "\n",
      "plotly.graph_objs.Data is deprecated.\n",
      "Please replace it with a list or tuple of instances of the following types\n",
      "  - plotly.graph_objs.Scatter\n",
      "  - plotly.graph_objs.Bar\n",
      "  - plotly.graph_objs.Area\n",
      "  - plotly.graph_objs.Histogram\n",
      "  - etc.\n",
      "\n",
      "\n"
     ]
    },
    {
     "data": {
      "application/vnd.plotly.v1+json": {
       "config": {
        "linkText": "Export to plot.ly",
        "plotlyServerURL": "https://plot.ly",
        "showLink": false
       },
       "data": [
        {
         "mode": "markers+text",
         "text": [
          "技术",
          "研究",
          "应用",
          "发展",
          "金融",
          "分析",
          "领域",
          "—",
          "创新",
          "设计",
          "实现",
          "系统",
          "产业",
          "问题",
          "我国",
          "展望",
          "商业银行",
          "挑战",
          "综述",
          "模式"
         ],
         "textposition": "top center",
         "type": "scatter",
         "uid": "e19ddfd8-8bcf-4b59-8a39-cb120804171b",
         "x": [
          4.700480365792417,
          4.543294782270004,
          4.3694478524670215,
          3.5263605246161616,
          3.332204510175204,
          2.8903717578961645,
          2.8903717578961645,
          2.772588722239781,
          2.772588722239781,
          2.70805020110221,
          2.6390573296152584,
          2.5649493574615367,
          2.5649493574615367,
          2.4849066497880004,
          2.302585092994046,
          2.302585092994046,
          2.302585092994046,
          2.302585092994046,
          2.1972245773362196,
          2.1972245773362196
         ],
         "y": [
          6.529418838262226,
          4.3694478524670215,
          5.198497031265826,
          5.087596335232384,
          4.912654885736052,
          2.70805020110221,
          4.204692619390966,
          4.143134726391533,
          4.143134726391533,
          3.1354942159291497,
          0,
          3.6888794541139363,
          3.9318256327243257,
          3.2188758248682006,
          4.30406509320417,
          0,
          4.02535169073515,
          2.1972245773362196,
          1.3862943611198906,
          2.9444389791664403
         ]
        }
       ],
       "layout": {}
      },
      "text/html": [
       "<div id=\"a1730e02-f6a1-45e5-99f7-e7e587caa31b\" style=\"height: 525px; width: 100%;\" class=\"plotly-graph-div\"></div><script type=\"text/javascript\">require([\"plotly\"], function(Plotly) { window.PLOTLYENV=window.PLOTLYENV || {};window.PLOTLYENV.BASE_URL=\"https://plot.ly\";\n",
       "if (document.getElementById(\"a1730e02-f6a1-45e5-99f7-e7e587caa31b\")) {\n",
       "    Plotly.newPlot(\"a1730e02-f6a1-45e5-99f7-e7e587caa31b\", [{\"mode\": \"markers+text\", \"text\": [\"\\u6280\\u672f\", \"\\u7814\\u7a76\", \"\\u5e94\\u7528\", \"\\u53d1\\u5c55\", \"\\u91d1\\u878d\", \"\\u5206\\u6790\", \"\\u9886\\u57df\", \"\\u2014\", \"\\u521b\\u65b0\", \"\\u8bbe\\u8ba1\", \"\\u5b9e\\u73b0\", \"\\u7cfb\\u7edf\", \"\\u4ea7\\u4e1a\", \"\\u95ee\\u9898\", \"\\u6211\\u56fd\", \"\\u5c55\\u671b\", \"\\u5546\\u4e1a\\u94f6\\u884c\", \"\\u6311\\u6218\", \"\\u7efc\\u8ff0\", \"\\u6a21\\u5f0f\"], \"textposition\": \"top center\", \"x\": [4.700480365792417, 4.543294782270004, 4.3694478524670215, 3.5263605246161616, 3.332204510175204, 2.8903717578961645, 2.8903717578961645, 2.772588722239781, 2.772588722239781, 2.70805020110221, 2.6390573296152584, 2.5649493574615367, 2.5649493574615367, 2.4849066497880004, 2.302585092994046, 2.302585092994046, 2.302585092994046, 2.302585092994046, 2.1972245773362196, 2.1972245773362196], \"y\": [6.529418838262226, 4.3694478524670215, 5.198497031265826, 5.087596335232384, 4.912654885736052, 2.70805020110221, 4.204692619390966, 4.143134726391533, 4.143134726391533, 3.1354942159291497, 0, 3.6888794541139363, 3.9318256327243257, 3.2188758248682006, 4.30406509320417, 0, 4.02535169073515, 2.1972245773362196, 1.3862943611198906, 2.9444389791664403], \"type\": \"scatter\", \"uid\": \"a4d09e0c-8620-4a17-b256-2c29547443e9\"}], {}, {\"showLink\": false, \"linkText\": \"Export to plot.ly\", \"plotlyServerURL\": \"https://plot.ly\"}); \n",
       "}\n",
       "});</script><script type=\"text/javascript\">window.addEventListener(\"resize\", function(){if (document.getElementById(\"a1730e02-f6a1-45e5-99f7-e7e587caa31b\")) {window._Plotly.Plots.resize(document.getElementById(\"a1730e02-f6a1-45e5-99f7-e7e587caa31b\"));};})</script>"
      ],
      "text/vnd.plotly.v1+html": [
       "<div id=\"a1730e02-f6a1-45e5-99f7-e7e587caa31b\" style=\"height: 525px; width: 100%;\" class=\"plotly-graph-div\"></div><script type=\"text/javascript\">require([\"plotly\"], function(Plotly) { window.PLOTLYENV=window.PLOTLYENV || {};window.PLOTLYENV.BASE_URL=\"https://plot.ly\";\n",
       "if (document.getElementById(\"a1730e02-f6a1-45e5-99f7-e7e587caa31b\")) {\n",
       "    Plotly.newPlot(\"a1730e02-f6a1-45e5-99f7-e7e587caa31b\", [{\"mode\": \"markers+text\", \"text\": [\"\\u6280\\u672f\", \"\\u7814\\u7a76\", \"\\u5e94\\u7528\", \"\\u53d1\\u5c55\", \"\\u91d1\\u878d\", \"\\u5206\\u6790\", \"\\u9886\\u57df\", \"\\u2014\", \"\\u521b\\u65b0\", \"\\u8bbe\\u8ba1\", \"\\u5b9e\\u73b0\", \"\\u7cfb\\u7edf\", \"\\u4ea7\\u4e1a\", \"\\u95ee\\u9898\", \"\\u6211\\u56fd\", \"\\u5c55\\u671b\", \"\\u5546\\u4e1a\\u94f6\\u884c\", \"\\u6311\\u6218\", \"\\u7efc\\u8ff0\", \"\\u6a21\\u5f0f\"], \"textposition\": \"top center\", \"x\": [4.700480365792417, 4.543294782270004, 4.3694478524670215, 3.5263605246161616, 3.332204510175204, 2.8903717578961645, 2.8903717578961645, 2.772588722239781, 2.772588722239781, 2.70805020110221, 2.6390573296152584, 2.5649493574615367, 2.5649493574615367, 2.4849066497880004, 2.302585092994046, 2.302585092994046, 2.302585092994046, 2.302585092994046, 2.1972245773362196, 2.1972245773362196], \"y\": [6.529418838262226, 4.3694478524670215, 5.198497031265826, 5.087596335232384, 4.912654885736052, 2.70805020110221, 4.204692619390966, 4.143134726391533, 4.143134726391533, 3.1354942159291497, 0, 3.6888794541139363, 3.9318256327243257, 3.2188758248682006, 4.30406509320417, 0, 4.02535169073515, 2.1972245773362196, 1.3862943611198906, 2.9444389791664403], \"type\": \"scatter\", \"uid\": \"a4d09e0c-8620-4a17-b256-2c29547443e9\"}], {}, {\"showLink\": false, \"linkText\": \"Export to plot.ly\", \"plotlyServerURL\": \"https://plot.ly\"}); \n",
       "}\n",
       "});</script><script type=\"text/javascript\">window.addEventListener(\"resize\", function(){if (document.getElementById(\"a1730e02-f6a1-45e5-99f7-e7e587caa31b\")) {window._Plotly.Plots.resize(document.getElementById(\"a1730e02-f6a1-45e5-99f7-e7e587caa31b\"));};})</script>"
      ]
     },
     "metadata": {},
     "output_type": "display_data"
    }
   ],
   "source": [
    "#coding:utf-8\n",
    "#author: moyuweiqing\n",
    "#战略分析，计算密度和向心度，向心度算法自己写，建立二维坐标轴\n",
    "\n",
    "import pandas as pd\n",
    "import jieba\n",
    "import plotly.offline as py\n",
    "import plotly.graph_objs as go\n",
    "import math\n",
    "\n",
    "py.init_notebook_mode(connected=True)#离线模式使用plotly\n",
    "\n",
    "xls = pd.ExcelFile(r'C:\\Users\\Yoga\\Desktop\\srp资料\\知网-区块链(2).xls')\n",
    "readf = pd.read_excel(xls, 'Sheet1')['标题']\n",
    "\n",
    "all_word = []   #记录所有分词\n",
    "dic = {}    #记录分词的出现数量\n",
    "\n",
    "#统计所有存在的分词\n",
    "for row in range(0, len(readf)):\n",
    "\ttemp = jieba.cut(readf[row])\n",
    "\tfor i in temp:\n",
    "\t\tif i in all_word:\n",
    "\t\t\tcontinue\n",
    "\t\telse:\n",
    "\t\t\tall_word.append(i)\n",
    "\n",
    "#统计分词的出现数量\n",
    "for i in all_word:\n",
    "    dic[i] = 0\n",
    "\n",
    "for row in range(0, len(readf)):\n",
    "    temp = jieba.cut(readf[row])\n",
    "    for i in temp:\n",
    "        dic[i] = dic[i] + 1\n",
    "\n",
    "#去除无关词\n",
    "f = open(r'D:\\JetBrains\\PyCharm 2018.3.4\\CNKI-analysis\\venv\\Include\\dependence\\stopwords.txt', encoding = \"utf-8\")\n",
    "temp_dic = dic.copy()\n",
    "f = f.read()\n",
    "for i in temp_dic:\n",
    "    if i in f:\n",
    "        dic.pop(i)\n",
    "\n",
    "#对分词进行排序，并挑选出出现次数最多的前20个\n",
    "dic_sorted = dict(sorted(dic.items(), key = lambda x: x[1], reverse = True))\n",
    "dic_20 = {}# 20个出现次数最多的词语\n",
    "for i in range(0, 20):\n",
    "    dic_20[list(dic_sorted.keys())[i]] = list(dic_sorted.values())[i]\n",
    "\n",
    "#建立一个空白的向心度模型\n",
    "dic_heart = {}\n",
    "for i in range(0, 20):\n",
    "    dic_heart[list(dic_20.keys())[i]] = 0\n",
    "\n",
    "#计算向心度\n",
    "for key in dic_heart.keys():\n",
    "    for row in range(0, len(readf)):\n",
    "        temp = jieba.cut(readf[row])\n",
    "        if key in temp:\n",
    "            dic_heart[key] = dic_heart[key] + len(list(temp))\n",
    "\n",
    "exp_densit = []# 密度的自然对数\n",
    "exp_heart = [] # 向心度的自然对数\n",
    "\n",
    "#计算向心度\n",
    "for i in dic_20.values():\n",
    "    exp_densit.append(math.log(i))\n",
    "for i in dic_heart.values():\n",
    "    if i != 0:\n",
    "        exp_heart.append(math.log(i))\n",
    "    else:\n",
    "        exp_heart.append(0)\n",
    "\n",
    "trace = go.Scatter(x = exp_densit, y = exp_heart, text = list(dic_20.keys()), textposition = \"top center\", mode = 'markers+text')\n",
    "data = go.Data([trace])\n",
    "py.iplot(data)\n",
    "#解决乱码\n",
    "# plt.rcParams['font.sans-serif'] =['Microsoft YaHei']\n",
    "# plt.rcParams['axes.unicode_minus'] = False\n",
    "#\n",
    "# plt.title(u'密度和向心度散点图')\n",
    "#\n",
    "# plt.xlabel('密度的自然对数')\n",
    "# plt.ylabel('向心度的自然对数')\n",
    "\n",
    "# plt.scatter(dic2.values(), dic3.values(), s=20, c=\"#ff1212\", marker='o')\n",
    "# # plt.scatter(exp_densit, exp_heart, s=20, c=\"#ff1212\", marker='o')\n",
    "# for i in range(0, 20):\n",
    "#     plt.annotate(list(dic_20.keys())[i], xy = (exp_densit[i], exp_heart[i]))\n",
    "# plt.show()\n",
    "# plt.savefig(\"scatter_exp1.png\")"
   ]
  }
 ],
 "metadata": {
  "kernelspec": {
   "display_name": "Python 3",
   "language": "python",
   "name": "python3"
  },
  "language_info": {
   "codemirror_mode": {
    "name": "ipython",
    "version": 3
   },
   "file_extension": ".py",
   "mimetype": "text/x-python",
   "name": "python",
   "nbconvert_exporter": "python",
   "pygments_lexer": "ipython3",
   "version": "3.7.1"
  }
 },
 "nbformat": 4,
 "nbformat_minor": 2
}
