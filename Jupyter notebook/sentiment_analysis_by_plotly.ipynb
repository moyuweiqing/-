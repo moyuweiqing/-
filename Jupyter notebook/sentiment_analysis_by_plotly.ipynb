{
 "cells": [
  {
   "cell_type": "code",
   "execution_count": 2,
   "metadata": {},
   "outputs": [
    {
     "data": {
      "text/html": [
       "<script type=\"text/javascript\">window.PlotlyConfig = {MathJaxConfig: 'local'};</script><script type=\"text/javascript\">if (window.MathJax) {MathJax.Hub.Config({SVG: {font: \"STIX-Web\"}});}</script><script>requirejs.config({paths: { 'plotly': ['https://cdn.plot.ly/plotly-latest.min']},});if(!window._Plotly) {require(['plotly'],function(plotly) {window._Plotly=plotly;});}</script>"
      ],
      "text/vnd.plotly.v1+html": [
       "<script type=\"text/javascript\">window.PlotlyConfig = {MathJaxConfig: 'local'};</script><script type=\"text/javascript\">if (window.MathJax) {MathJax.Hub.Config({SVG: {font: \"STIX-Web\"}});}</script><script>requirejs.config({paths: { 'plotly': ['https://cdn.plot.ly/plotly-latest.min']},});if(!window._Plotly) {require(['plotly'],function(plotly) {window._Plotly=plotly;});}</script>"
      ]
     },
     "metadata": {},
     "output_type": "display_data"
    },
    {
     "name": "stderr",
     "output_type": "stream",
     "text": [
      "D:\\conda\\lib\\site-packages\\plotly\\graph_objs\\_deprecations.py:39: DeprecationWarning:\n",
      "\n",
      "plotly.graph_objs.Data is deprecated.\n",
      "Please replace it with a list or tuple of instances of the following types\n",
      "  - plotly.graph_objs.Scatter\n",
      "  - plotly.graph_objs.Bar\n",
      "  - plotly.graph_objs.Area\n",
      "  - plotly.graph_objs.Histogram\n",
      "  - etc.\n",
      "\n",
      "\n"
     ]
    },
    {
     "data": {
      "application/vnd.plotly.v1+json": {
       "config": {
        "linkText": "Export to plot.ly",
        "plotlyServerURL": "https://plot.ly",
        "showLink": false
       },
       "data": [
        {
         "type": "bar",
         "uid": "16cf3f06-06fd-4d95-be02-b834386aca35",
         "x": [
          0,
          0.02,
          0.04,
          0.06,
          0.08,
          0.1,
          0.12,
          0.14,
          0.16,
          0.18,
          0.2,
          0.22,
          0.24,
          0.26,
          0.28,
          0.3,
          0.32,
          0.34,
          0.36,
          0.38,
          0.4,
          0.42,
          0.44,
          0.46,
          0.48,
          0.5,
          0.52,
          0.54,
          0.56,
          0.58,
          0.6,
          0.62,
          0.64,
          0.66,
          0.68,
          0.7,
          0.72,
          0.74,
          0.76,
          0.78,
          0.8,
          0.82,
          0.84,
          0.86,
          0.88,
          0.9,
          0.92,
          0.94,
          0.96,
          0.98
         ],
         "y": [
          46,
          11,
          11,
          4,
          3,
          6,
          3,
          5,
          3,
          5,
          5,
          3,
          4,
          2,
          3,
          5,
          6,
          3,
          2,
          0,
          9,
          1,
          2,
          2,
          2,
          111,
          3,
          1,
          4,
          1,
          3,
          1,
          1,
          0,
          2,
          3,
          4,
          3,
          4,
          8,
          4,
          4,
          10,
          4,
          5,
          10,
          7,
          8,
          19,
          115
         ]
        }
       ],
       "layout": {}
      },
      "text/html": [
       "<div id=\"9346a92a-945f-4d72-b565-dd5ae160488f\" style=\"height: 525px; width: 100%;\" class=\"plotly-graph-div\"></div><script type=\"text/javascript\">require([\"plotly\"], function(Plotly) { window.PLOTLYENV=window.PLOTLYENV || {};window.PLOTLYENV.BASE_URL=\"https://plot.ly\";\n",
       "if (document.getElementById(\"9346a92a-945f-4d72-b565-dd5ae160488f\")) {\n",
       "    Plotly.newPlot(\"9346a92a-945f-4d72-b565-dd5ae160488f\", [{\"x\": [0.0, 0.02, 0.04, 0.06, 0.08, 0.1, 0.12, 0.14, 0.16, 0.18, 0.2, 0.22, 0.24, 0.26, 0.28, 0.3, 0.32, 0.34, 0.36, 0.38, 0.4, 0.42, 0.44, 0.46, 0.48, 0.5, 0.52, 0.54, 0.56, 0.58, 0.6, 0.62, 0.64, 0.66, 0.68, 0.7, 0.72, 0.74, 0.76, 0.78, 0.8, 0.82, 0.84, 0.86, 0.88, 0.9, 0.92, 0.94, 0.96, 0.98], \"y\": [46, 11, 11, 4, 3, 6, 3, 5, 3, 5, 5, 3, 4, 2, 3, 5, 6, 3, 2, 0, 9, 1, 2, 2, 2, 111, 3, 1, 4, 1, 3, 1, 1, 0, 2, 3, 4, 3, 4, 8, 4, 4, 10, 4, 5, 10, 7, 8, 19, 115], \"type\": \"bar\", \"uid\": \"7e50964e-a422-4939-8aa4-7a175d715600\"}], {}, {\"showLink\": false, \"linkText\": \"Export to plot.ly\", \"plotlyServerURL\": \"https://plot.ly\"}); \n",
       "}\n",
       "});</script><script type=\"text/javascript\">window.addEventListener(\"resize\", function(){if (document.getElementById(\"9346a92a-945f-4d72-b565-dd5ae160488f\")) {window._Plotly.Plots.resize(document.getElementById(\"9346a92a-945f-4d72-b565-dd5ae160488f\"));};})</script>"
      ],
      "text/vnd.plotly.v1+html": [
       "<div id=\"9346a92a-945f-4d72-b565-dd5ae160488f\" style=\"height: 525px; width: 100%;\" class=\"plotly-graph-div\"></div><script type=\"text/javascript\">require([\"plotly\"], function(Plotly) { window.PLOTLYENV=window.PLOTLYENV || {};window.PLOTLYENV.BASE_URL=\"https://plot.ly\";\n",
       "if (document.getElementById(\"9346a92a-945f-4d72-b565-dd5ae160488f\")) {\n",
       "    Plotly.newPlot(\"9346a92a-945f-4d72-b565-dd5ae160488f\", [{\"x\": [0.0, 0.02, 0.04, 0.06, 0.08, 0.1, 0.12, 0.14, 0.16, 0.18, 0.2, 0.22, 0.24, 0.26, 0.28, 0.3, 0.32, 0.34, 0.36, 0.38, 0.4, 0.42, 0.44, 0.46, 0.48, 0.5, 0.52, 0.54, 0.56, 0.58, 0.6, 0.62, 0.64, 0.66, 0.68, 0.7, 0.72, 0.74, 0.76, 0.78, 0.8, 0.82, 0.84, 0.86, 0.88, 0.9, 0.92, 0.94, 0.96, 0.98], \"y\": [46, 11, 11, 4, 3, 6, 3, 5, 3, 5, 5, 3, 4, 2, 3, 5, 6, 3, 2, 0, 9, 1, 2, 2, 2, 111, 3, 1, 4, 1, 3, 1, 1, 0, 2, 3, 4, 3, 4, 8, 4, 4, 10, 4, 5, 10, 7, 8, 19, 115], \"type\": \"bar\", \"uid\": \"7e50964e-a422-4939-8aa4-7a175d715600\"}], {}, {\"showLink\": false, \"linkText\": \"Export to plot.ly\", \"plotlyServerURL\": \"https://plot.ly\"}); \n",
       "}\n",
       "});</script><script type=\"text/javascript\">window.addEventListener(\"resize\", function(){if (document.getElementById(\"9346a92a-945f-4d72-b565-dd5ae160488f\")) {window._Plotly.Plots.resize(document.getElementById(\"9346a92a-945f-4d72-b565-dd5ae160488f\"));};})</script>"
      ]
     },
     "metadata": {},
     "output_type": "display_data"
    }
   ],
   "source": [
    "#coding:utf-8\n",
    "#author: moyuweiqing\n",
    "#情感分析\n",
    "\n",
    "from snownlp import SnowNLP\n",
    "import plotly.offline as py\n",
    "import plotly.graph_objs as go\n",
    "import numpy as np\n",
    "import math\n",
    "\n",
    "py.init_notebook_mode(connected=True)#离线模式使用plotly\n",
    "\n",
    "text = open(r'C:\\Users\\Yoga\\Desktop\\区块链技术发展现状与展望_袁勇.txt').read()\n",
    "s1 = text.replace('\\n', '').replace(' ', '').replace('.', '。')#去除换行\n",
    "# print(s1)\n",
    "sn1 = SnowNLP(s1)\n",
    "sentimentslist = []\n",
    "for i in sn1.sentences:\n",
    "    j = SnowNLP(i)\n",
    "    # print(i)\n",
    "    # print(j.sentiments)\n",
    "    sentimentslist.append(j.sentiments)\n",
    "\n",
    "dic = {}\n",
    "for i in np.arange(0, 1, 0.02):\n",
    "    index = round(i, 2)\n",
    "    dic[index] = 0\n",
    "# print(dic)\n",
    "\n",
    "for i in sentimentslist:\n",
    "    temp = round(math.floor(i/0.02)*0.02, 2)\n",
    "    dic[temp] = dic[temp] + 1\n",
    "\n",
    "trace = go.Bar(x = list(dic.keys()), y = list(dic.values()))\n",
    "data = go.Data([trace])\n",
    "py.iplot(data)"
   ]
  }
 ],
 "metadata": {
  "kernelspec": {
   "display_name": "Python 3",
   "language": "python",
   "name": "python3"
  },
  "language_info": {
   "codemirror_mode": {
    "name": "ipython",
    "version": 3
   },
   "file_extension": ".py",
   "mimetype": "text/x-python",
   "name": "python",
   "nbconvert_exporter": "python",
   "pygments_lexer": "ipython3",
   "version": "3.7.1"
  }
 },
 "nbformat": 4,
 "nbformat_minor": 2
}
